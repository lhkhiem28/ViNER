{
 "cells": [
  {
   "cell_type": "code",
   "execution_count": 6,
   "metadata": {},
   "outputs": [],
   "source": [
    "import pandas as pd\n",
    "import tqdm"
   ]
  },
  {
   "cell_type": "code",
   "execution_count": 7,
   "metadata": {},
   "outputs": [
    {
     "name": "stderr",
     "output_type": "stream",
     "text": [
      "/tmp/ipykernel_2092460/3332480371.py:1: FutureWarning: The error_bad_lines argument has been deprecated and will be removed in a future version. Use on_bad_lines in the future.\n",
      "\n",
      "\n",
      "  df = pd.read_csv(\"train.csv\", error_bad_lines=False)\n"
     ]
    },
    {
     "name": "stdout",
     "output_type": "stream",
     "text": [
      "(3663, 2)\n"
     ]
    },
    {
     "name": "stderr",
     "output_type": "stream",
     "text": [
      "100%|██████████| 3663/3663 [00:00<00:00, 12209.76it/s]\n"
     ]
    }
   ],
   "source": [
    "df = pd.read_csv(\"train.csv\", error_bad_lines=False)\n",
    "print(df.shape)\n",
    "df[\"words\"] = df[\"words\"].apply(lambda s: s.strip())\n",
    "df[\"tags\"] = df[\"tags\"].apply(lambda s: s.strip())\n",
    "for i in tqdm.tqdm(range(len(df))):\n",
    "    if len(df.iloc[0][\"words\"].split()) != len(df.iloc[0][\"tags\"].split()):\n",
    "        print(i)\n",
    "df = df.drop_duplicates(subset=['words'])\n",
    "df.to_csv(\"train.csv\", index = False)"
   ]
  },
  {
   "cell_type": "code",
   "execution_count": 8,
   "metadata": {},
   "outputs": [
    {
     "name": "stderr",
     "output_type": "stream",
     "text": [
      "/tmp/ipykernel_2092460/2644912182.py:1: FutureWarning: The error_bad_lines argument has been deprecated and will be removed in a future version. Use on_bad_lines in the future.\n",
      "\n",
      "\n",
      "  df = pd.read_csv(\"val.csv\", error_bad_lines=False)\n"
     ]
    },
    {
     "name": "stdout",
     "output_type": "stream",
     "text": [
      "(500, 2)\n"
     ]
    },
    {
     "name": "stderr",
     "output_type": "stream",
     "text": [
      "100%|██████████| 500/500 [00:00<00:00, 13584.35it/s]\n"
     ]
    }
   ],
   "source": [
    "df = pd.read_csv(\"val.csv\", error_bad_lines=False)\n",
    "print(df.shape)\n",
    "df[\"words\"] = df[\"words\"].apply(lambda s: s.strip())\n",
    "df[\"tags\"] = df[\"tags\"].apply(lambda s: s.strip())\n",
    "for i in tqdm.tqdm(range(len(df))):\n",
    "    if len(df.iloc[0][\"words\"].split()) != len(df.iloc[0][\"tags\"].split()):\n",
    "        print(i)\n",
    "df = df.drop_duplicates(subset=['words'])\n",
    "df.to_csv(\"val.csv\", index = False)"
   ]
  },
  {
   "cell_type": "code",
   "execution_count": 9,
   "metadata": {},
   "outputs": [
    {
     "name": "stderr",
     "output_type": "stream",
     "text": [
      "/tmp/ipykernel_2092460/540290381.py:1: FutureWarning: The error_bad_lines argument has been deprecated and will be removed in a future version. Use on_bad_lines in the future.\n",
      "\n",
      "\n",
      "  df = pd.read_csv(\"test.csv\", error_bad_lines=False)\n"
     ]
    },
    {
     "name": "stdout",
     "output_type": "stream",
     "text": [
      "(500, 2)\n"
     ]
    },
    {
     "name": "stderr",
     "output_type": "stream",
     "text": [
      "100%|██████████| 500/500 [00:00<00:00, 10416.70it/s]\n"
     ]
    }
   ],
   "source": [
    "df = pd.read_csv(\"test.csv\", error_bad_lines=False)\n",
    "print(df.shape)\n",
    "df[\"words\"] = df[\"words\"].apply(lambda s: s.strip())\n",
    "df[\"tags\"] = df[\"tags\"].apply(lambda s: s.strip())\n",
    "for i in tqdm.tqdm(range(len(df))):\n",
    "    if len(df.iloc[0][\"words\"].split()) != len(df.iloc[0][\"tags\"].split()):\n",
    "        print(i)\n",
    "df = df.drop_duplicates(subset=['words'])\n",
    "df.to_csv(\"test.csv\", index = False)"
   ]
  }
 ],
 "metadata": {
  "kernelspec": {
   "display_name": "nlp",
   "language": "python",
   "name": "python3"
  },
  "language_info": {
   "codemirror_mode": {
    "name": "ipython",
    "version": 3
   },
   "file_extension": ".py",
   "mimetype": "text/x-python",
   "name": "python",
   "nbconvert_exporter": "python",
   "pygments_lexer": "ipython3",
   "version": "3.8.16"
  },
  "orig_nbformat": 4
 },
 "nbformat": 4,
 "nbformat_minor": 2
}
